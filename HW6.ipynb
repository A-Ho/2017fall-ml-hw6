{
 "cells": [
  {
   "cell_type": "code",
   "execution_count": 1,
   "metadata": {},
   "outputs": [
    {
     "name": "stderr",
     "output_type": "stream",
     "text": [
      "Using TensorFlow backend.\n"
     ]
    }
   ],
   "source": [
    "from __future__ import print_function\n",
    "\n",
    "from keras.layers import Input, Dense\n",
    "from keras.models import Model\n",
    "from keras.optimizers import Adam\n",
    "\n",
    "from sklearn.cluster import KMeans\n",
    "\n",
    "import pandas as pd\n",
    "import numpy as np"
   ]
  },
  {
   "cell_type": "code",
   "execution_count": 2,
   "metadata": {},
   "outputs": [
    {
     "name": "stdout",
     "output_type": "stream",
     "text": [
      "_________________________________________________________________\n",
      "Layer (type)                 Output Shape              Param #   \n",
      "=================================================================\n",
      "input_1 (InputLayer)         (None, 784)               0         \n",
      "_________________________________________________________________\n",
      "dense_1 (Dense)              (None, 128)               100480    \n",
      "_________________________________________________________________\n",
      "dense_2 (Dense)              (None, 64)                8256      \n",
      "_________________________________________________________________\n",
      "dense_3 (Dense)              (None, 32)                2080      \n",
      "_________________________________________________________________\n",
      "dense_4 (Dense)              (None, 64)                2112      \n",
      "_________________________________________________________________\n",
      "dense_5 (Dense)              (None, 128)               8320      \n",
      "_________________________________________________________________\n",
      "dense_6 (Dense)              (None, 784)               101136    \n",
      "=================================================================\n",
      "Total params: 222,384\n",
      "Trainable params: 222,384\n",
      "Non-trainable params: 0\n",
      "_________________________________________________________________\n"
     ]
    },
    {
     "name": "stderr",
     "output_type": "stream",
     "text": [
      "/usr/local/lib/python3.5/dist-packages/ipykernel_launcher.py:12: UserWarning: Update your `Model` call to the Keras 2 API: `Model(inputs=Tensor(\"in..., outputs=Tensor(\"de...)`\n",
      "  if sys.path[0] == '':\n",
      "/usr/local/lib/python3.5/dist-packages/ipykernel_launcher.py:16: UserWarning: Update your `Model` call to the Keras 2 API: `Model(inputs=Tensor(\"in..., outputs=Tensor(\"de...)`\n",
      "  app.launch_new_instance()\n"
     ]
    }
   ],
   "source": [
    "# build model\n",
    "input_img = Input(shape=(784,))\n",
    "encoded = Dense(128, activation='relu')(input_img)\n",
    "encoded = Dense(64, activation='relu')(encoded)\n",
    "encoded = Dense(32, activation='relu')(encoded)\n",
    "\n",
    "decoded = Dense(64, activation='relu')(encoded)\n",
    "decoded = Dense(128, activation='relu')(decoded)\n",
    "decoded = Dense(784, activation='sigmoid')(decoded)\n",
    "\n",
    "# build encoder\n",
    "encoder = Model(input=input_img, output=encoded)\n",
    "\n",
    "# build autoencoder\n",
    "adam = Adam(lr=5e-4)\n",
    "autoencoder = Model(input=input_img, output=decoded)\n",
    "autoencoder.compile(optimizer=adam, loss='mse')\n",
    "autoencoder.summary()"
   ]
  },
  {
   "cell_type": "code",
   "execution_count": 3,
   "metadata": {},
   "outputs": [
    {
     "data": {
      "text/plain": [
       "((130000, 784), (10000, 784))"
      ]
     },
     "execution_count": 3,
     "metadata": {},
     "output_type": "execute_result"
    }
   ],
   "source": [
    "# load images\n",
    "train_num = 130000\n",
    "X = np.load('image.npy')\n",
    "X = X.astype('float32') / 255.\n",
    "X = np.reshape(X, (len(X), -1))\n",
    "x_train = X[:train_num]\n",
    "x_val = X[train_num:]\n",
    "x_train.shape, x_val.shape"
   ]
  },
  {
   "cell_type": "code",
   "execution_count": 4,
   "metadata": {},
   "outputs": [
    {
     "name": "stdout",
     "output_type": "stream",
     "text": [
      "Train on 130000 samples, validate on 10000 samples\n",
      "Epoch 1/50\n",
      "130000/130000 [==============================] - 2s - loss: 0.0579 - val_loss: 0.0355\n",
      "Epoch 2/50\n",
      "130000/130000 [==============================] - 1s - loss: 0.0323 - val_loss: 0.0297\n",
      "Epoch 3/50\n",
      "130000/130000 [==============================] - 1s - loss: 0.0279 - val_loss: 0.0260\n",
      "Epoch 4/50\n",
      "130000/130000 [==============================] - 1s - loss: 0.0246 - val_loss: 0.0231\n",
      "Epoch 5/50\n",
      "130000/130000 [==============================] - 1s - loss: 0.0222 - val_loss: 0.0213\n",
      "Epoch 6/50\n",
      "130000/130000 [==============================] - 1s - loss: 0.0206 - val_loss: 0.0200\n",
      "Epoch 7/50\n",
      "130000/130000 [==============================] - 1s - loss: 0.0194 - val_loss: 0.0189\n",
      "Epoch 8/50\n",
      "130000/130000 [==============================] - 1s - loss: 0.0185 - val_loss: 0.0183\n",
      "Epoch 9/50\n",
      "130000/130000 [==============================] - 1s - loss: 0.0177 - val_loss: 0.0175\n",
      "Epoch 10/50\n",
      "130000/130000 [==============================] - 1s - loss: 0.0171 - val_loss: 0.0169\n",
      "Epoch 11/50\n",
      "130000/130000 [==============================] - 1s - loss: 0.0167 - val_loss: 0.0165\n",
      "Epoch 12/50\n",
      "130000/130000 [==============================] - 1s - loss: 0.0162 - val_loss: 0.0161\n",
      "Epoch 13/50\n",
      "130000/130000 [==============================] - 1s - loss: 0.0159 - val_loss: 0.0158\n",
      "Epoch 14/50\n",
      "130000/130000 [==============================] - 1s - loss: 0.0156 - val_loss: 0.0155\n",
      "Epoch 15/50\n",
      "130000/130000 [==============================] - 1s - loss: 0.0153 - val_loss: 0.0152\n",
      "Epoch 16/50\n",
      "130000/130000 [==============================] - 1s - loss: 0.0150 - val_loss: 0.0151\n",
      "Epoch 17/50\n",
      "130000/130000 [==============================] - 1s - loss: 0.0148 - val_loss: 0.0148\n",
      "Epoch 18/50\n",
      "130000/130000 [==============================] - 1s - loss: 0.0146 - val_loss: 0.0146\n",
      "Epoch 19/50\n",
      "130000/130000 [==============================] - 1s - loss: 0.0144 - val_loss: 0.0144\n",
      "Epoch 20/50\n",
      "130000/130000 [==============================] - 1s - loss: 0.0142 - val_loss: 0.0142\n",
      "Epoch 21/50\n",
      "130000/130000 [==============================] - 1s - loss: 0.0140 - val_loss: 0.0140\n",
      "Epoch 22/50\n",
      "130000/130000 [==============================] - 1s - loss: 0.0139 - val_loss: 0.0139\n",
      "Epoch 23/50\n",
      "130000/130000 [==============================] - 1s - loss: 0.0137 - val_loss: 0.0137\n",
      "Epoch 24/50\n",
      "130000/130000 [==============================] - 1s - loss: 0.0136 - val_loss: 0.0136\n",
      "Epoch 25/50\n",
      "130000/130000 [==============================] - 1s - loss: 0.0135 - val_loss: 0.0135\n",
      "Epoch 26/50\n",
      "130000/130000 [==============================] - 1s - loss: 0.0134 - val_loss: 0.0134\n",
      "Epoch 27/50\n",
      "130000/130000 [==============================] - 1s - loss: 0.0133 - val_loss: 0.0135\n",
      "Epoch 28/50\n",
      "130000/130000 [==============================] - 1s - loss: 0.0132 - val_loss: 0.0132\n",
      "Epoch 29/50\n",
      "130000/130000 [==============================] - 1s - loss: 0.0131 - val_loss: 0.0132\n",
      "Epoch 30/50\n",
      "130000/130000 [==============================] - 1s - loss: 0.0130 - val_loss: 0.0131\n",
      "Epoch 31/50\n",
      "130000/130000 [==============================] - 1s - loss: 0.0129 - val_loss: 0.0130\n",
      "Epoch 32/50\n",
      "130000/130000 [==============================] - 1s - loss: 0.0129 - val_loss: 0.0129\n",
      "Epoch 33/50\n",
      "130000/130000 [==============================] - 1s - loss: 0.0128 - val_loss: 0.0129\n",
      "Epoch 34/50\n",
      "130000/130000 [==============================] - 1s - loss: 0.0127 - val_loss: 0.0128\n",
      "Epoch 35/50\n",
      "130000/130000 [==============================] - 1s - loss: 0.0127 - val_loss: 0.0127\n",
      "Epoch 36/50\n",
      "130000/130000 [==============================] - 1s - loss: 0.0126 - val_loss: 0.0127\n",
      "Epoch 37/50\n",
      "130000/130000 [==============================] - 1s - loss: 0.0125 - val_loss: 0.0126\n",
      "Epoch 38/50\n",
      "130000/130000 [==============================] - 1s - loss: 0.0125 - val_loss: 0.0126\n",
      "Epoch 39/50\n",
      "130000/130000 [==============================] - 1s - loss: 0.0124 - val_loss: 0.0125\n",
      "Epoch 40/50\n",
      "130000/130000 [==============================] - 1s - loss: 0.0123 - val_loss: 0.0124\n",
      "Epoch 41/50\n",
      "130000/130000 [==============================] - 1s - loss: 0.0122 - val_loss: 0.0124\n",
      "Epoch 42/50\n",
      "130000/130000 [==============================] - 1s - loss: 0.0122 - val_loss: 0.0123\n",
      "Epoch 43/50\n",
      "130000/130000 [==============================] - 1s - loss: 0.0121 - val_loss: 0.0122\n",
      "Epoch 44/50\n",
      "130000/130000 [==============================] - 1s - loss: 0.0121 - val_loss: 0.0121\n",
      "Epoch 45/50\n",
      "130000/130000 [==============================] - 1s - loss: 0.0120 - val_loss: 0.0122\n",
      "Epoch 46/50\n",
      "130000/130000 [==============================] - 1s - loss: 0.0120 - val_loss: 0.0121\n",
      "Epoch 47/50\n",
      "130000/130000 [==============================] - 1s - loss: 0.0119 - val_loss: 0.0121\n",
      "Epoch 48/50\n",
      "130000/130000 [==============================] - 1s - loss: 0.0119 - val_loss: 0.0120\n",
      "Epoch 49/50\n",
      "130000/130000 [==============================] - 1s - loss: 0.0119 - val_loss: 0.0120\n",
      "Epoch 50/50\n",
      "130000/130000 [==============================] - 1s - loss: 0.0118 - val_loss: 0.0119\n"
     ]
    },
    {
     "data": {
      "text/plain": [
       "<keras.callbacks.History at 0x7f35d8505da0>"
      ]
     },
     "execution_count": 4,
     "metadata": {},
     "output_type": "execute_result"
    }
   ],
   "source": [
    "# train autoencoder\n",
    "autoencoder.fit(x_train, x_train,\n",
    "                epochs=50,\n",
    "                batch_size=256,\n",
    "                shuffle=True,\n",
    "                validation_data=(x_val, x_val))"
   ]
  },
  {
   "cell_type": "code",
   "execution_count": 5,
   "metadata": {},
   "outputs": [],
   "source": [
    "# after training, use encoder to encode image, and feed it into Kmeans\n",
    "encoded_imgs = encoder.predict(X)\n",
    "encoded_imgs = encoded_imgs.reshape(encoded_imgs.shape[0], -1)\n",
    "kmeans = KMeans(n_clusters=2, random_state=0).fit(encoded_imgs)"
   ]
  },
  {
   "cell_type": "code",
   "execution_count": 6,
   "metadata": {},
   "outputs": [],
   "source": [
    "# get test cases\n",
    "f = pd.read_csv('test_case.csv')\n",
    "IDs, idx1, idx2 = np.array(f['ID']), np.array(f['image1_index']), np.array(f['image2_index'])"
   ]
  },
  {
   "cell_type": "code",
   "execution_count": 7,
   "metadata": {},
   "outputs": [],
   "source": [
    "# predict\n",
    "o = open('prediction.csv', 'w')\n",
    "o.write(\"ID,Ans\\n\")\n",
    "for idx, i1, i2 in zip(IDs, idx1, idx2):\n",
    "    p1 = kmeans.labels_[i1]\n",
    "    p2 = kmeans.labels_[i2]\n",
    "    if p1 == p2:\n",
    "        pred = 1  # two images in same cluster\n",
    "    else: \n",
    "        pred = 0  # two images not in same cluster\n",
    "    o.write(\"{},{}\\n\".format(idx, pred))\n",
    "o.close()"
   ]
  }
 ],
 "metadata": {
  "kernelspec": {
   "display_name": "Python 3",
   "language": "python",
   "name": "python3"
  },
  "language_info": {
   "codemirror_mode": {
    "name": "ipython",
    "version": 3
   },
   "file_extension": ".py",
   "mimetype": "text/x-python",
   "name": "python",
   "nbconvert_exporter": "python",
   "pygments_lexer": "ipython3",
   "version": "3.5.2"
  }
 },
 "nbformat": 4,
 "nbformat_minor": 2
}
